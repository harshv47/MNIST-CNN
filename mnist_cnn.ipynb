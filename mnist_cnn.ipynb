{
  "nbformat": 4,
  "nbformat_minor": 0,
  "metadata": {
    "kernelspec": {
      "name": "python3",
      "display_name": "Python 3"
    },
    "language_info": {
      "codemirror_mode": {
        "name": "ipython",
        "version": 3
      },
      "file_extension": ".py",
      "mimetype": "text/x-python",
      "name": "python",
      "nbconvert_exporter": "python",
      "pygments_lexer": "ipython3",
      "version": "3.6.6"
    },
    "colab": {
      "name": "mnist cnn.ipynb",
      "provenance": [],
      "include_colab_link": true
    },
    "accelerator": "GPU"
  },
  "cells": [
    {
      "cell_type": "markdown",
      "metadata": {
        "id": "view-in-github",
        "colab_type": "text"
      },
      "source": [
        "<a href=\"https://colab.research.google.com/github/harshv47/MNIST-CNN/blob/master/mnist_cnn.ipynb\" target=\"_parent\"><img src=\"https://colab.research.google.com/assets/colab-badge.svg\" alt=\"Open In Colab\"/></a>"
      ]
    },
    {
      "cell_type": "code",
      "metadata": {
        "_uuid": "0f935bddcc5ca02702578e712bf7f396ba7154ef",
        "id": "vc3G_G6ES6JQ",
        "colab_type": "code",
        "colab": {}
      },
      "source": [
        "import pandas as pd\n",
        "import numpy as np\n",
        "\n",
        "import matplotlib.pyplot as plt\n",
        "import seaborn as sns\n",
        "\n",
        "from sklearn.model_selection import train_test_split\n",
        "from sklearn.metrics import confusion_matrix\n",
        "\n",
        "\n",
        "\n",
        "\n",
        "\n",
        "\n",
        "#from keras.datasets import mnist "
      ],
      "execution_count": 0,
      "outputs": []
    },
    {
      "cell_type": "code",
      "metadata": {
        "id": "sZb9NwRuUC_b",
        "colab_type": "code",
        "outputId": "4769fd71-b345-4f33-a754-5c3aa8027fac",
        "colab": {
          "base_uri": "https://localhost:8080/",
          "height": 34
        }
      },
      "source": [
        "from google.colab import drive\n",
        "drive.mount('/content/drive')"
      ],
      "execution_count": 0,
      "outputs": [
        {
          "output_type": "stream",
          "text": [
            "Drive already mounted at /content/drive; to attempt to forcibly remount, call drive.mount(\"/content/drive\", force_remount=True).\n"
          ],
          "name": "stdout"
        }
      ]
    },
    {
      "cell_type": "code",
      "metadata": {
        "id": "1pMt2jIyS6JV",
        "colab_type": "code",
        "outputId": "1ca257ff-63f0-4418-8f25-91b9296a84dd",
        "colab": {
          "base_uri": "https://localhost:8080/",
          "height": 50
        }
      },
      "source": [
        "train_df = pd.read_csv('/content/drive/My Drive/Dataset/mnist/train.csv')\n",
        "test_df = pd.read_csv('/content/drive/My Drive/Dataset/mnist/test.csv')\n",
        "print(train_df.shape)\n",
        "print(test_df.shape)"
      ],
      "execution_count": 0,
      "outputs": [
        {
          "output_type": "stream",
          "text": [
            "(42000, 785)\n",
            "(28000, 784)\n"
          ],
          "name": "stdout"
        }
      ]
    },
    {
      "cell_type": "code",
      "metadata": {
        "id": "beiBizY8S6Ja",
        "colab_type": "code",
        "colab": {}
      },
      "source": [
        "X = train_df.drop(['label'], 1).values\n",
        "Y = train_df['label'].values\n",
        "test_x = test_df.values"
      ],
      "execution_count": 0,
      "outputs": []
    },
    {
      "cell_type": "code",
      "metadata": {
        "id": "-P7rmEPBS6Jd",
        "colab_type": "code",
        "colab": {}
      },
      "source": [
        "# Normalize and reshape\n",
        "X = X / 255.0\n",
        "test_x = test_x / 255.0\n",
        "X = X.reshape(-1,28,28,1)\n",
        "test_x = test_x.reshape(-1,28,28,1)"
      ],
      "execution_count": 0,
      "outputs": []
    },
    {
      "cell_type": "code",
      "metadata": {
        "id": "lSqHau5WS6Jk",
        "colab_type": "code",
        "outputId": "8c58c21d-555d-4223-826d-8d71950637e4",
        "colab": {
          "base_uri": "https://localhost:8080/",
          "height": 34
        }
      },
      "source": [
        "# one hot vectors encoding 3 -> [0,0,0,1,0,0,0,0,0,0]\n",
        "from keras.utils.np_utils import to_categorical\n",
        "\n",
        "\n",
        "Y = to_categorical(Y)\n",
        "print(Y.shape)"
      ],
      "execution_count": 0,
      "outputs": [
        {
          "output_type": "stream",
          "text": [
            "(42000, 10)\n"
          ],
          "name": "stdout"
        }
      ]
    },
    {
      "cell_type": "code",
      "metadata": {
        "id": "wmMLhApnS6Jm",
        "colab_type": "code",
        "colab": {}
      },
      "source": [
        "X_train, X_test, Y_train, Y_test = train_test_split(X, Y, test_size=0.1, random_state=10)"
      ],
      "execution_count": 0,
      "outputs": []
    },
    {
      "cell_type": "code",
      "metadata": {
        "id": "eao4grnoS6Jp",
        "colab_type": "code",
        "outputId": "fc416da0-33fc-47a4-d049-a6a104c86bc7",
        "colab": {
          "base_uri": "https://localhost:8080/",
          "height": 34
        }
      },
      "source": [
        "X_train.shape, X_test.shape, Y_train.shape, Y_test.shape"
      ],
      "execution_count": 0,
      "outputs": [
        {
          "output_type": "execute_result",
          "data": {
            "text/plain": [
              "((37800, 28, 28, 1), (4200, 28, 28, 1), (37800, 10), (4200, 10))"
            ]
          },
          "metadata": {
            "tags": []
          },
          "execution_count": 17
        }
      ]
    },
    {
      "cell_type": "code",
      "metadata": {
        "_uuid": "82bddf135bfad1d3f91b52cd0cadb62e55db964b",
        "id": "2_4JtXNZS6Ju",
        "colab_type": "code",
        "colab": {}
      },
      "source": [
        "mean = np.mean(X_train)\n",
        "std = np.std(X_train)\n",
        "\n",
        "def standardize(x):\n",
        "    return (x-mean)/std"
      ],
      "execution_count": 0,
      "outputs": []
    },
    {
      "cell_type": "code",
      "metadata": {
        "id": "zaa9CyLcS6Jw",
        "colab_type": "code",
        "colab": {}
      },
      "source": [
        "epochs = 50\n",
        "batch_size = 64"
      ],
      "execution_count": 0,
      "outputs": []
    },
    {
      "cell_type": "code",
      "metadata": {
        "_uuid": "e935c979b0715a68bc8739e6a31f5d9a8189a750",
        "id": "Op4o4gutS6Jy",
        "colab_type": "code",
        "colab": {}
      },
      "source": [
        "from tensorflow.python.keras import Sequential\n",
        "from tensorflow.python.keras.layers import Conv2D, Lambda, MaxPooling2D\n",
        "from tensorflow.python.keras.layers import Dense, Dropout, Flatten \n",
        "from tensorflow.python.keras.layers.normalization import BatchNormalization\n",
        "\n",
        "\n",
        "model=Sequential()\n",
        "\n",
        "model.add(Conv2D(filters=64, kernel_size = (3,3), activation=\"relu\", input_shape=(28,28,1)))\n",
        "model.add(Conv2D(filters=64, kernel_size = (3,3), activation=\"relu\"))\n",
        "\n",
        "model.add(MaxPooling2D(pool_size=(2,2)))\n",
        "model.add(BatchNormalization())\n",
        "model.add(Conv2D(filters=128, kernel_size = (3,3), activation=\"relu\"))\n",
        "model.add(Conv2D(filters=128, kernel_size = (3,3), activation=\"relu\"))\n",
        "\n",
        "model.add(MaxPooling2D(pool_size=(2,2)))\n",
        "model.add(BatchNormalization())    \n",
        "model.add(Conv2D(filters=256, kernel_size = (3,3), activation=\"relu\"))\n",
        "    \n",
        "model.add(MaxPooling2D(pool_size=(2,2)))\n",
        "    \n",
        "model.add(Flatten())\n",
        "model.add(BatchNormalization())\n",
        "model.add(Dense(512,activation=\"relu\"))\n",
        "    \n",
        "model.add(Dense(10,activation=\"softmax\"))\n",
        "    \n",
        "model.compile(loss=\"categorical_crossentropy\", optimizer=\"adam\", metrics=[\"accuracy\"])"
      ],
      "execution_count": 0,
      "outputs": []
    },
    {
      "cell_type": "code",
      "metadata": {
        "id": "EGyN1oR0S6J1",
        "colab_type": "code",
        "colab": {}
      },
      "source": [
        "# Data augmentation to prevent overfitting\n",
        "from keras.preprocessing.image import ImageDataGenerator\n",
        "\n",
        "\n",
        "datagen = ImageDataGenerator(\n",
        "        featurewise_center=False,  # set input mean to 0 over the dataset\n",
        "        samplewise_center=False,  # set each sample mean to 0\n",
        "        featurewise_std_normalization=False,  # divide inputs by std of the dataset\n",
        "        samplewise_std_normalization=False,  # divide each input by its std\n",
        "        zca_whitening=False,  # apply ZCA whitening\n",
        "        rotation_range=10,  # randomly rotate images in the range (degrees, 0 to 180)\n",
        "        zoom_range = 0.1, # Randomly zoom image \n",
        "        width_shift_range=0.1,  # randomly shift images horizontally (fraction of total width)\n",
        "        height_shift_range=0.1,  # randomly shift images vertically (fraction of total height)\n",
        "        horizontal_flip=False,  # randomly flip images\n",
        "        vertical_flip=False)  # randomly flip images\n",
        "\n",
        "\n",
        "#datagen.fit(X_train)\n",
        "train_gen = datagen.flow(X_train, Y_train, batch_size=batch_size)\n",
        "test_gen = datagen.flow(X_test, Y_test, batch_size=batch_size)"
      ],
      "execution_count": 0,
      "outputs": []
    },
    {
      "cell_type": "code",
      "metadata": {
        "id": "oiTCV4I8S6J3",
        "colab_type": "code",
        "outputId": "9f56d0c6-a335-4e2b-a7dc-88aa7475ebef",
        "colab": {
          "base_uri": "https://localhost:8080/",
          "height": 370
        }
      },
      "source": [
        "# This makes accuracy 0.998\n",
        "model.fit(X, Y, batch_size=batch_size, validation_split=0.2, epochs=10)"
      ],
      "execution_count": 0,
      "outputs": [
        {
          "output_type": "stream",
          "text": [
            "Epoch 1/10\n",
            "525/525 [==============================] - 5s 10ms/step - loss: 0.0082 - accuracy: 0.9977 - val_loss: 0.0080 - val_accuracy: 0.9977\n",
            "Epoch 2/10\n",
            "525/525 [==============================] - 5s 9ms/step - loss: 0.0034 - accuracy: 0.9991 - val_loss: 0.0074 - val_accuracy: 0.9986\n",
            "Epoch 3/10\n",
            "525/525 [==============================] - 5s 9ms/step - loss: 0.0017 - accuracy: 0.9994 - val_loss: 0.0075 - val_accuracy: 0.9981\n",
            "Epoch 4/10\n",
            "525/525 [==============================] - 5s 9ms/step - loss: 0.0034 - accuracy: 0.9987 - val_loss: 0.0118 - val_accuracy: 0.9973\n",
            "Epoch 5/10\n",
            "525/525 [==============================] - 5s 9ms/step - loss: 0.0037 - accuracy: 0.9989 - val_loss: 0.0121 - val_accuracy: 0.9974\n",
            "Epoch 6/10\n",
            "525/525 [==============================] - 5s 9ms/step - loss: 0.0032 - accuracy: 0.9991 - val_loss: 0.0159 - val_accuracy: 0.9962\n",
            "Epoch 7/10\n",
            "525/525 [==============================] - 5s 9ms/step - loss: 0.0058 - accuracy: 0.9983 - val_loss: 0.0101 - val_accuracy: 0.9973\n",
            "Epoch 8/10\n",
            "525/525 [==============================] - 5s 9ms/step - loss: 0.0026 - accuracy: 0.9991 - val_loss: 0.0087 - val_accuracy: 0.9986\n",
            "Epoch 9/10\n",
            "525/525 [==============================] - 5s 10ms/step - loss: 0.0023 - accuracy: 0.9993 - val_loss: 0.0115 - val_accuracy: 0.9981\n",
            "Epoch 10/10\n",
            "525/525 [==============================] - 5s 10ms/step - loss: 0.0028 - accuracy: 0.9991 - val_loss: 0.0125 - val_accuracy: 0.9974\n"
          ],
          "name": "stdout"
        },
        {
          "output_type": "execute_result",
          "data": {
            "text/plain": [
              "<tensorflow.python.keras.callbacks.History at 0x7f677a3a36a0>"
            ]
          },
          "metadata": {
            "tags": []
          },
          "execution_count": 27
        }
      ]
    },
    {
      "cell_type": "code",
      "metadata": {
        "id": "WqH3LCTcS6J5",
        "colab_type": "code",
        "outputId": "c8e2ece1-7b11-429a-84dd-4f0e8414136c",
        "colab": {
          "base_uri": "https://localhost:8080/",
          "height": 1000
        }
      },
      "source": [
        "# Fit the model\n",
        "history = model.fit_generator(train_gen, \n",
        "                              epochs = epochs, \n",
        "                              steps_per_epoch = X_train.shape[0] // batch_size,\n",
        "                              validation_data = test_gen,\n",
        "                              validation_steps = X_test.shape[0] // batch_size)"
      ],
      "execution_count": 0,
      "outputs": [
        {
          "output_type": "stream",
          "text": [
            "WARNING:tensorflow:From <ipython-input-24-7697052ec0bb>:5: Model.fit_generator (from tensorflow.python.keras.engine.training) is deprecated and will be removed in a future version.\n",
            "Instructions for updating:\n",
            "Please use Model.fit, which supports generators.\n",
            "Epoch 1/50\n",
            "590/590 [==============================] - 21s 35ms/step - loss: 0.1557 - accuracy: 0.9514 - val_loss: 0.1346 - val_accuracy: 0.9599\n",
            "Epoch 2/50\n",
            "590/590 [==============================] - 20s 34ms/step - loss: 0.0674 - accuracy: 0.9797 - val_loss: 0.0774 - val_accuracy: 0.9757\n",
            "Epoch 3/50\n",
            "590/590 [==============================] - 20s 33ms/step - loss: 0.0561 - accuracy: 0.9833 - val_loss: 0.0507 - val_accuracy: 0.9849\n",
            "Epoch 4/50\n",
            "590/590 [==============================] - 20s 33ms/step - loss: 0.0498 - accuracy: 0.9851 - val_loss: 0.0694 - val_accuracy: 0.9776\n",
            "Epoch 5/50\n",
            "590/590 [==============================] - 20s 33ms/step - loss: 0.0439 - accuracy: 0.9871 - val_loss: 0.0384 - val_accuracy: 0.9882\n",
            "Epoch 6/50\n",
            "590/590 [==============================] - 20s 33ms/step - loss: 0.0398 - accuracy: 0.9880 - val_loss: 0.0609 - val_accuracy: 0.9841\n",
            "Epoch 7/50\n",
            "590/590 [==============================] - 20s 33ms/step - loss: 0.0363 - accuracy: 0.9895 - val_loss: 0.0324 - val_accuracy: 0.9913\n",
            "Epoch 8/50\n",
            "590/590 [==============================] - 20s 33ms/step - loss: 0.0372 - accuracy: 0.9881 - val_loss: 0.0492 - val_accuracy: 0.9880\n",
            "Epoch 9/50\n",
            "590/590 [==============================] - 20s 33ms/step - loss: 0.0338 - accuracy: 0.9895 - val_loss: 0.0560 - val_accuracy: 0.9849\n",
            "Epoch 10/50\n",
            "590/590 [==============================] - 19s 33ms/step - loss: 0.0282 - accuracy: 0.9914 - val_loss: 0.0514 - val_accuracy: 0.9873\n",
            "Epoch 11/50\n",
            "590/590 [==============================] - 19s 33ms/step - loss: 0.0295 - accuracy: 0.9911 - val_loss: 0.0327 - val_accuracy: 0.9909\n",
            "Epoch 12/50\n",
            "590/590 [==============================] - 19s 33ms/step - loss: 0.0274 - accuracy: 0.9913 - val_loss: 0.0365 - val_accuracy: 0.9885\n",
            "Epoch 13/50\n",
            "590/590 [==============================] - 20s 33ms/step - loss: 0.0245 - accuracy: 0.9922 - val_loss: 0.0616 - val_accuracy: 0.9839\n",
            "Epoch 14/50\n",
            "590/590 [==============================] - 19s 33ms/step - loss: 0.0237 - accuracy: 0.9931 - val_loss: 0.0514 - val_accuracy: 0.9887\n",
            "Epoch 15/50\n",
            "590/590 [==============================] - 19s 33ms/step - loss: 0.0244 - accuracy: 0.9926 - val_loss: 0.0338 - val_accuracy: 0.9904\n",
            "Epoch 16/50\n",
            "590/590 [==============================] - 20s 33ms/step - loss: 0.0227 - accuracy: 0.9927 - val_loss: 0.0386 - val_accuracy: 0.9909\n",
            "Epoch 17/50\n",
            "590/590 [==============================] - 20s 33ms/step - loss: 0.0219 - accuracy: 0.9932 - val_loss: 0.0387 - val_accuracy: 0.9882\n",
            "Epoch 18/50\n",
            "590/590 [==============================] - 20s 34ms/step - loss: 0.0209 - accuracy: 0.9938 - val_loss: 0.0318 - val_accuracy: 0.9916\n",
            "Epoch 19/50\n",
            "590/590 [==============================] - 20s 34ms/step - loss: 0.0206 - accuracy: 0.9939 - val_loss: 0.0348 - val_accuracy: 0.9911\n",
            "Epoch 20/50\n",
            "590/590 [==============================] - 20s 33ms/step - loss: 0.0212 - accuracy: 0.9935 - val_loss: 0.0263 - val_accuracy: 0.9923\n",
            "Epoch 21/50\n",
            "590/590 [==============================] - 20s 34ms/step - loss: 0.0159 - accuracy: 0.9952 - val_loss: 0.0372 - val_accuracy: 0.9906\n",
            "Epoch 22/50\n",
            "590/590 [==============================] - 20s 34ms/step - loss: 0.0177 - accuracy: 0.9946 - val_loss: 0.0253 - val_accuracy: 0.9928\n",
            "Epoch 23/50\n",
            "590/590 [==============================] - 20s 33ms/step - loss: 0.0163 - accuracy: 0.9946 - val_loss: 0.0241 - val_accuracy: 0.9952\n",
            "Epoch 24/50\n",
            "590/590 [==============================] - 20s 34ms/step - loss: 0.0146 - accuracy: 0.9955 - val_loss: 0.0408 - val_accuracy: 0.9882\n",
            "Epoch 25/50\n",
            "590/590 [==============================] - 20s 34ms/step - loss: 0.0164 - accuracy: 0.9952 - val_loss: 0.0278 - val_accuracy: 0.9930\n",
            "Epoch 26/50\n",
            "590/590 [==============================] - 20s 34ms/step - loss: 0.0158 - accuracy: 0.9948 - val_loss: 0.0306 - val_accuracy: 0.9921\n",
            "Epoch 27/50\n",
            "590/590 [==============================] - 20s 34ms/step - loss: 0.0140 - accuracy: 0.9956 - val_loss: 0.0304 - val_accuracy: 0.9921\n",
            "Epoch 28/50\n",
            "590/590 [==============================] - 20s 34ms/step - loss: 0.0161 - accuracy: 0.9950 - val_loss: 0.0339 - val_accuracy: 0.9918\n",
            "Epoch 29/50\n",
            "590/590 [==============================] - 20s 34ms/step - loss: 0.0176 - accuracy: 0.9947 - val_loss: 0.0276 - val_accuracy: 0.9918\n",
            "Epoch 30/50\n",
            "590/590 [==============================] - 20s 34ms/step - loss: 0.0133 - accuracy: 0.9959 - val_loss: 0.0285 - val_accuracy: 0.9930\n",
            "Epoch 31/50\n",
            "590/590 [==============================] - 20s 33ms/step - loss: 0.0137 - accuracy: 0.9959 - val_loss: 0.0240 - val_accuracy: 0.9942\n",
            "Epoch 32/50\n",
            "590/590 [==============================] - 19s 33ms/step - loss: 0.0117 - accuracy: 0.9964 - val_loss: 0.0359 - val_accuracy: 0.9923\n",
            "Epoch 33/50\n",
            "590/590 [==============================] - 19s 33ms/step - loss: 0.0126 - accuracy: 0.9961 - val_loss: 0.0410 - val_accuracy: 0.9889\n",
            "Epoch 34/50\n",
            "590/590 [==============================] - 20s 33ms/step - loss: 0.0121 - accuracy: 0.9964 - val_loss: 0.0345 - val_accuracy: 0.9921\n",
            "Epoch 35/50\n",
            "590/590 [==============================] - 20s 33ms/step - loss: 0.0122 - accuracy: 0.9960 - val_loss: 0.0330 - val_accuracy: 0.9921\n",
            "Epoch 36/50\n",
            "590/590 [==============================] - 20s 33ms/step - loss: 0.0113 - accuracy: 0.9965 - val_loss: 0.0270 - val_accuracy: 0.9937\n",
            "Epoch 37/50\n",
            "590/590 [==============================] - 20s 33ms/step - loss: 0.0121 - accuracy: 0.9958 - val_loss: 0.0348 - val_accuracy: 0.9925\n",
            "Epoch 38/50\n",
            "590/590 [==============================] - 20s 33ms/step - loss: 0.0114 - accuracy: 0.9966 - val_loss: 0.0278 - val_accuracy: 0.9940\n",
            "Epoch 39/50\n",
            "590/590 [==============================] - 20s 33ms/step - loss: 0.0105 - accuracy: 0.9970 - val_loss: 0.0295 - val_accuracy: 0.9925\n",
            "Epoch 40/50\n",
            "590/590 [==============================] - 19s 33ms/step - loss: 0.0120 - accuracy: 0.9964 - val_loss: 0.0341 - val_accuracy: 0.9906\n",
            "Epoch 41/50\n",
            "590/590 [==============================] - 20s 34ms/step - loss: 0.0086 - accuracy: 0.9974 - val_loss: 0.0386 - val_accuracy: 0.9925\n",
            "Epoch 42/50\n",
            "590/590 [==============================] - 20s 34ms/step - loss: 0.0112 - accuracy: 0.9967 - val_loss: 0.0279 - val_accuracy: 0.9937\n",
            "Epoch 43/50\n",
            "590/590 [==============================] - 19s 33ms/step - loss: 0.0112 - accuracy: 0.9963 - val_loss: 0.0385 - val_accuracy: 0.9918\n",
            "Epoch 44/50\n",
            "590/590 [==============================] - 19s 33ms/step - loss: 0.0081 - accuracy: 0.9974 - val_loss: 0.0267 - val_accuracy: 0.9930\n",
            "Epoch 45/50\n",
            "590/590 [==============================] - 20s 34ms/step - loss: 0.0106 - accuracy: 0.9970 - val_loss: 0.0280 - val_accuracy: 0.9937\n",
            "Epoch 46/50\n",
            "590/590 [==============================] - 20s 34ms/step - loss: 0.0099 - accuracy: 0.9965 - val_loss: 0.0458 - val_accuracy: 0.9918\n",
            "Epoch 47/50\n",
            "590/590 [==============================] - 20s 33ms/step - loss: 0.0125 - accuracy: 0.9965 - val_loss: 0.0341 - val_accuracy: 0.9930\n",
            "Epoch 48/50\n",
            "590/590 [==============================] - 20s 34ms/step - loss: 0.0087 - accuracy: 0.9975 - val_loss: 0.0252 - val_accuracy: 0.9940\n",
            "Epoch 49/50\n",
            "590/590 [==============================] - 20s 33ms/step - loss: 0.0087 - accuracy: 0.9971 - val_loss: 0.0339 - val_accuracy: 0.9933\n",
            "Epoch 50/50\n",
            "590/590 [==============================] - 20s 34ms/step - loss: 0.0079 - accuracy: 0.9977 - val_loss: 0.0372 - val_accuracy: 0.9923\n"
          ],
          "name": "stdout"
        }
      ]
    }
  ]
}